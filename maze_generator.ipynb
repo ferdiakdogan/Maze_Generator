{
 "cells": [
  {
   "cell_type": "code",
   "execution_count": 55,
   "metadata": {},
   "outputs": [],
   "source": [
    "import pygame\n",
    "import time\n",
    "import random\n",
    "\n",
    "# set up pygame window\n",
    "WIDTH = 480\n",
    "HEIGHT = 600\n",
    "FPS = 30\n",
    "\n",
    "# Define colours\n",
    "WHITE = (255, 255, 255)\n",
    "GREEN = (0, 255, 0,)\n",
    "BLUE = (0, 0, 255)\n",
    "RED = (255 ,0 ,0)\n",
    "\n",
    "# initalize Pygame\n",
    "pygame.init()\n",
    "pygame.mixer.init()\n",
    "screen = pygame.display.set_mode((WIDTH, HEIGHT))\n",
    "pygame.display.set_caption(\"Python Maze Generator\")\n",
    "clock = pygame.time.Clock()"
   ]
  },
  {
   "cell_type": "code",
   "execution_count": 56,
   "metadata": {},
   "outputs": [],
   "source": [
    "# setup maze variables\n",
    "x = 0                    # x axis\n",
    "y = 0                    # y axis\n",
    "w = 20                   # width of cell"
   ]
  },
  {
   "cell_type": "code",
   "execution_count": 59,
   "metadata": {},
   "outputs": [],
   "source": [
    "# setup the grid\n",
    "def build_grid(x, y, w):\n",
    "    for x in range(0, 21 * w, w):\n",
    "        pygame.draw.line(screen, WHITE, [x, y], [x, y + 20 * w])\n",
    "    x = 0\n",
    "    for y in range(0, 21 * w, w):\n",
    "        pygame.draw.line(screen, WHITE, [x, y], [x + 20 * w, y])"
   ]
  },
  {
   "cell_type": "code",
   "execution_count": 60,
   "metadata": {},
   "outputs": [],
   "source": [
    "\n",
    "build_grid(0, 0, 20) \n",
    "x, y = 0, 0                    # starting position of grid\n",
    "running = True\n",
    "colorrr = BLUE\n",
    "while running:\n",
    "    # keep running at the at the right speed\n",
    "    clock.tick(FPS)\n",
    "    pygame.display.update()\n",
    "    # process input (events)\n",
    "    for event in pygame.event.get():\n",
    "        # check for closing the window\n",
    "        if event.type == pygame.QUIT:\n",
    "            running = False\n",
    "    pygame.draw.rect(screen, colorrr, (x+1, y+1, w-1, w-1), 0)\n",
    "    if x < 20 * w:\n",
    "        x += w\n",
    "    elif y < 20 * w:\n",
    "        x = 0\n",
    "        y += w\n",
    "    else:\n",
    "        x = 0\n",
    "        y = 0\n",
    "        colorrr = RED"
   ]
  }
 ],
 "metadata": {
  "kernelspec": {
   "display_name": "Python 3",
   "language": "python",
   "name": "python3"
  },
  "language_info": {
   "codemirror_mode": {
    "name": "ipython",
    "version": 3
   },
   "file_extension": ".py",
   "mimetype": "text/x-python",
   "name": "python",
   "nbconvert_exporter": "python",
   "pygments_lexer": "ipython3",
   "version": "3.7.0"
  }
 },
 "nbformat": 4,
 "nbformat_minor": 2
}
